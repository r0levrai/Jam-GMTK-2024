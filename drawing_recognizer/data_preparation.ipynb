{
 "cells": [
  {
   "cell_type": "code",
   "execution_count": 63,
   "id": "34c36b2c-faa6-4bb7-a609-1cc7983c1f10",
   "metadata": {},
   "outputs": [],
   "source": [
    "import numpy as np\n",
    "from PIL import Image\n",
    "import PIL.ImageOps\n",
    "import os \n",
    "from os import walk\n",
    "from pathlib import Path\n",
    "\n",
    "mypath = \"dataset/sketches_png/quick_draw\"\n",
    "f = []\n",
    "for (dirpath, dirnames, filenames) in walk(mypath):\n",
    "    for filename in filenames:\n",
    "        short = filename.replace(\".npy\",\"\").replace(\"full_numpy_bitmap_\",\"\")\n",
    "        f.append([filename,short])\n",
    "    break\n",
    "imgNumber = 0\n",
    "for array in f:\n",
    "    imgClasse = 0\n",
    "    images = np.load(\"dataset/sketches_png/quick_draw/\"+array[0])\n",
    "    classe = array[1]\n",
    "    path = os.path.join(\"dataset/quick_draw\", classe) \n",
    "    os.mkdir(path) \n",
    "    for image in images:\n",
    "        if imgClasse > 4999:\n",
    "            imgClass = 0\n",
    "            continue\n",
    "        im = Image.fromarray(image.reshape(28,28))\n",
    "        inverted_image = PIL.ImageOps.invert(im)\n",
    "        inverted_image.save(\"dataset/quick_draw/\" +classe + \"/\" +str(imgNumber)+ \".jpeg\")\n",
    "        imgNumber+=1\n",
    "        imgClasse+=1\n"
   ]
  },
  {
   "cell_type": "code",
   "execution_count": 6,
   "id": "69e900bb-2894-48a9-bdd2-ee6d83c9a9ec",
   "metadata": {},
   "outputs": [
    {
     "data": {
      "text/plain": [
       "(151623, 784)"
      ]
     },
     "execution_count": 6,
     "metadata": {},
     "output_type": "execute_result"
    }
   ],
   "source": [
    "test.shape"
   ]
  },
  {
   "cell_type": "code",
   "execution_count": 53,
   "id": "ab2e3ced-e87a-46c0-8c56-fc29a2fed3e0",
   "metadata": {},
   "outputs": [
    {
     "data": {
      "image/png": "[encoded data removed]",
      "text/plain": [
       "<Figure size 640x480 with 1 Axes>"
      ]
     },
     "metadata": {},
     "output_type": "display_data"
    }
   ],
   "source": [
    "import pylab as plt\n",
    "\n",
    "im = plt.imshow(test[1].reshape(28,28))\n",
    "plt.show()\n"
   ]
  },
  {
   "cell_type": "code",
   "execution_count": 27,
   "id": "8e149858-a899-4026-a2aa-ea1e13d2ad31",
   "metadata": {},
   "outputs": [
    {
     "ename": "ValueError",
     "evalue": "cannot resize this array: it does not own its data",
     "output_type": "error",
     "traceback": [
      "\u001b[1;31m---------------------------------------------------------------------------\u001b[0m",
      "\u001b[1;31mValueError\u001b[0m                                Traceback (most recent call last)",
      "Cell \u001b[1;32mIn[27], line 2\u001b[0m\n\u001b[0;32m      1\u001b[0m \u001b[38;5;28;01mfrom\u001b[39;00m \u001b[38;5;21;01mPIL\u001b[39;00m \u001b[38;5;28;01mimport\u001b[39;00m Image\n\u001b[1;32m----> 2\u001b[0m im \u001b[38;5;241m=\u001b[39m Image\u001b[38;5;241m.\u001b[39mfromarray(test[\u001b[38;5;241m1\u001b[39m]\u001b[38;5;241m.\u001b[39mreshape(\u001b[38;5;241m28\u001b[39m,\u001b[38;5;241m28\u001b[39m)\u001b[38;5;241m.\u001b[39mresize(\u001b[38;5;241m224\u001b[39m,\u001b[38;5;241m224\u001b[39m))\n\u001b[0;32m      3\u001b[0m im\u001b[38;5;241m.\u001b[39msave(\u001b[38;5;124m\"\u001b[39m\u001b[38;5;124myour_file.jpeg\u001b[39m\u001b[38;5;124m\"\u001b[39m)\n",
      "\u001b[1;31mValueError\u001b[0m: cannot resize this array: it does not own its data"
     ]
    }
   ],
   "source": [
    "from PIL import Image\n"
   ]
  },
  {
   "cell_type": "code",
   "execution_count": 47,
   "id": "86abb4ce-7edb-4723-aa6a-441d6f73ef27",
   "metadata": {},
   "outputs": [],
   "source": [
    "\n"
   ]
  },
  {
   "cell_type": "code",
   "execution_count": 51,
   "id": "e5c40cc9-3e74-4d0c-ae38-7b3b7f793305",
   "metadata": {},
   "outputs": [
    {
     "data": {
      "text/plain": [
       "'hahafull_numpy_bitmap_airplane.npy'"
      ]
     },
     "execution_count": 51,
     "metadata": {},
     "output_type": "execute_result"
    }
   ],
   "source": []
  },
  {
   "cell_type": "code",
   "execution_count": null,
   "id": "66cbaae1-a71b-4ee4-a41b-eefc593a8924",
   "metadata": {},
   "outputs": [],
   "source": []
  }
 ],
 "metadata": {
  "kernelspec": {
   "display_name": "Python 3 (ipykernel)",
   "language": "python",
   "name": "python3"
  },
  "language_info": {
   "codemirror_mode": {
    "name": "ipython",
    "version": 3
   },
   "file_extension": ".py",
   "mimetype": "text/x-python",
   "name": "python",
   "nbconvert_exporter": "python",
   "pygments_lexer": "ipython3",
   "version": "3.12.4"
  }
 },
 "nbformat": 4,
 "nbformat_minor": 5
}
